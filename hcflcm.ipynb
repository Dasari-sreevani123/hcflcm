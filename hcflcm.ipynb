{
 "cells": [
  {
   "cell_type": "code",
   "execution_count": 4,
   "metadata": {},
   "outputs": [
    {
     "name": "stdout",
     "output_type": "stream",
     "text": [
      "The HCF of given numbers is: 5\n"
     ]
    }
   ],
   "source": [
    "#hcf --- method\n",
    "a = int(input(\"enter a number:\")) #a=55\n",
    "b = int(input(\"enter a number:\")) #b=95\n",
    "hcf = 1\n",
    "smaller = a  if a < b else b\n",
    "for i in range(1,smaller+1):\n",
    "    if(a % i == 0) and (b % i == 0):\n",
    "        hcf = i\n",
    "print(\"The HCF of given numbers is: \" + str(hcf))\n"
   ]
  },
  {
   "cell_type": "code",
   "execution_count": 5,
   "metadata": {},
   "outputs": [
    {
     "name": "stdout",
     "output_type": "stream",
     "text": [
      "The HCF of given numbers is: 2\n"
     ]
    }
   ],
   "source": [
    "#hcf --- method 2  (repetation method)\n",
    "a = int(input(\"enter a number:\")) #a=62\n",
    "b = int(input(\"enter a number:\")) #b=78\n",
    "hcf = 1\n",
    "while a !=  b:\n",
    "    if a > b:\n",
    "        a = a - b\n",
    "    else:\n",
    "        b = b - a\n",
    "print(\"The HCF of given numbers is: \" +str(a))\n"
   ]
  },
  {
   "cell_type": "code",
   "execution_count": 7,
   "metadata": {},
   "outputs": [
    {
     "name": "stdout",
     "output_type": "stream",
     "text": [
      "The LCM of given numbers is: 60\n"
     ]
    }
   ],
   "source": [
    "#lcm--- method\n",
    "a = int(input(\"enter a number:\"))  #a=10\n",
    "b = int(input(\"enter a number:\"))  #b=12\n",
    "hcf = 1\n",
    "smaller = a  if a < b else b\n",
    "for i in range(1,smaller+1):\n",
    "    if(a % i == 0) and (b % i == 0):\n",
    "        hcf = i\n",
    "lcm =  ( a * b ) // 2\n",
    "print(\"The LCM of given numbers is: \" + str(int(lcm)))"
   ]
  }
 ],
 "metadata": {
  "kernelspec": {
   "display_name": "Python 3",
   "language": "python",
   "name": "python3"
  },
  "language_info": {
   "codemirror_mode": {
    "name": "ipython",
    "version": 3
   },
   "file_extension": ".py",
   "mimetype": "text/x-python",
   "name": "python",
   "nbconvert_exporter": "python",
   "pygments_lexer": "ipython3",
   "version": "3.12.4"
  }
 },
 "nbformat": 4,
 "nbformat_minor": 2
}
